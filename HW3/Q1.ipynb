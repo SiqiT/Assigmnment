{
  "cells": [
    {
      "cell_type": "code",
      "execution_count": 2,
      "id": "8daacb09",
      "metadata": {
        "id": "8daacb09"
      },
      "outputs": [],
      "source": [
        "import torch\n",
        "import torch.nn as nn\n",
        "import numpy as np\n",
        "import math\n",
        "import torchvision"
      ]
    },
    {
      "cell_type": "markdown",
      "id": "d9cc9975",
      "metadata": {
        "id": "d9cc9975"
      },
      "source": [
        "1.torch.nn.**MaxPool2d**(kernel_size=2, stride=1, padding=0, dilation=1, return_indices=False, ceil_mode=False),<br />\n",
        "2.torch.nn.**AvgPool2d**(kernel_size=2, stride=1, padding=0, ceil_mode=False, count_include_pad=True, divisor_override=None)"
      ]
    },
    {
      "cell_type": "code",
      "execution_count": null,
      "id": "6e38c37b",
      "metadata": {
        "id": "6e38c37b"
      },
      "outputs": [],
      "source": [
        "x = torch.randn(3,32,32)"
      ]
    },
    {
      "cell_type": "code",
      "execution_count": null,
      "id": "aada5095",
      "metadata": {
        "id": "aada5095"
      },
      "outputs": [],
      "source": [
        "l1 = torch.nn.MaxPool2d(kernel_size=2, stride=1, padding=0, dilation=1, return_indices=False, ceil_mode=False)\n",
        "#窗口大小2x2，每次滑动1格，周围不填充0，return_indices：返回值不包含最大值的索引\n",
        "torch_out = l1(x)\n",
        "my_out = my_Pool2d(2,1,x,'MaxPool2d')"
      ]
    },
    {
      "cell_type": "code",
      "execution_count": null,
      "id": "5a278ac4",
      "metadata": {
        "id": "5a278ac4",
        "outputId": "cf92d5a3-05c7-4359-a76a-e16170d6a21e"
      },
      "outputs": [
        {
          "data": {
            "text/plain": [
              "torch.Size([3, 16, 16])"
            ]
          },
          "execution_count": 9,
          "metadata": {},
          "output_type": "execute_result"
        }
      ],
      "source": [
        "torch_out.shape"
      ]
    },
    {
      "cell_type": "code",
      "execution_count": null,
      "id": "f8f262e8",
      "metadata": {
        "id": "f8f262e8",
        "outputId": "c04b95a3-ae38-40f3-ebf0-926808cd2b00"
      },
      "outputs": [
        {
          "data": {
            "text/plain": [
              "tensor(-9.3453e-05, dtype=torch.float64)"
            ]
          },
          "execution_count": 314,
          "metadata": {},
          "output_type": "execute_result"
        }
      ],
      "source": [
        "diff = torch.sum(torch_out-my_out)\n",
        "diff"
      ]
    },
    {
      "cell_type": "code",
      "execution_count": null,
      "id": "5605c838",
      "metadata": {
        "id": "5605c838"
      },
      "outputs": [],
      "source": [
        "l2=torch.nn.AvgPool2d(kernel_size=2, stride=1, padding=0, ceil_mode=False, count_include_pad=True, divisor_override=None)\n",
        "#divisor_override:除法因子\n",
        "torch_out = l2(x)\n",
        "my_out = my_Pool2d(2,1,x,'AvgPool2d')"
      ]
    },
    {
      "cell_type": "code",
      "execution_count": null,
      "id": "898cd41c",
      "metadata": {
        "id": "898cd41c",
        "outputId": "8a2ffaf8-d58c-4577-83ce-b454cad21853"
      },
      "outputs": [
        {
          "data": {
            "text/plain": [
              "tensor(-0.0001, dtype=torch.float64)"
            ]
          },
          "execution_count": 316,
          "metadata": {},
          "output_type": "execute_result"
        }
      ],
      "source": [
        "diff = torch.sum(torch_out-my_out)\n",
        "diff"
      ]
    },
    {
      "cell_type": "code",
      "execution_count": null,
      "id": "17dcce9a",
      "metadata": {
        "id": "17dcce9a"
      },
      "outputs": [],
      "source": [
        "def my_Pool2d(kernel_size,stride,inputx,method):\n",
        "    output_width=int((inputx.shape[1]-kernel_size)/stride)+1\n",
        "    output_height=int((inputx.shape[2]-kernel_size)/stride)+1\n",
        "    output = np.zeros((len(inputx),output_width,output_height))\n",
        "    for i in range(inputx.shape[0]):#channel\n",
        "        for x in range(0,output_height,stride):\n",
        "            for y in range(0,output_width,stride):\n",
        "                if method=='MaxPool2d':\n",
        "                    output[i,x,y]=np.max(inputx[i,x:x+kernel_size,y:y+kernel_size].numpy())\n",
        "                if method=='AvgPool2d':\n",
        "                    output[i,x,y]=np.mean(inputx[i,x:x+kernel_size,y:y+kernel_size].numpy())\n",
        "    return np.round(output,5)"
      ]
    },
    {
      "cell_type": "markdown",
      "id": "a62738a3",
      "metadata": {
        "id": "a62738a3"
      },
      "source": [
        "3.torch.nn.Conv2d(in_channels=3, out_channels=6, kernel_size=3, stride=1, padding=0, dilation=1, groups=1, bias=True, padding_mode=‘zeros')"
      ]
    },
    {
      "cell_type": "code",
      "execution_count": null,
      "id": "ec933781",
      "metadata": {
        "id": "ec933781"
      },
      "outputs": [],
      "source": [
        "x = torch.randn(1,3,32,32)#add batch size"
      ]
    },
    {
      "cell_type": "code",
      "execution_count": null,
      "id": "dabd648f",
      "metadata": {
        "id": "dabd648f"
      },
      "outputs": [],
      "source": [
        "l3=torch.nn.Conv2d(in_channels=3, out_channels=6, kernel_size=3, stride=1, padding=0, dilation=1, groups=1, bias=True, padding_mode='zeros')\n",
        "#At groups=1, all inputs are convolved to all outputs\n",
        "torch.nn.init.uniform_(l3.weight)\n",
        "torch.nn.init.uniform_(l3.bias)\n",
        "torch_out = l3(x)\n",
        "my_out = my_Cov2d(3,1,6,l3.weight,l3.bias,x)"
      ]
    },
    {
      "cell_type": "code",
      "execution_count": null,
      "id": "d5e97e28",
      "metadata": {
        "id": "d5e97e28",
        "outputId": "c6e4527c-4d60-43c3-862f-ecbc3f8b84dc"
      },
      "outputs": [
        {
          "data": {
            "text/plain": [
              "tensor(0.0003, dtype=torch.float64, grad_fn=<SumBackward0>)"
            ]
          },
          "execution_count": 322,
          "metadata": {},
          "output_type": "execute_result"
        }
      ],
      "source": [
        "diff = torch.sum(torch_out-torch.from_numpy(my_out))\n",
        "diff"
      ]
    },
    {
      "cell_type": "code",
      "execution_count": null,
      "id": "8a39869b",
      "metadata": {
        "id": "8a39869b",
        "outputId": "bb4c6cf3-40ec-47cf-e10d-4a3f925b530b"
      },
      "outputs": [
        {
          "data": {
            "text/plain": [
              "torch.Size([6])"
            ]
          },
          "execution_count": 313,
          "metadata": {},
          "output_type": "execute_result"
        }
      ],
      "source": [
        "l3.bias.shape"
      ]
    },
    {
      "cell_type": "code",
      "execution_count": null,
      "id": "81d8b3c3",
      "metadata": {
        "id": "81d8b3c3",
        "outputId": "c3d5a891-0eee-4c70-9d69-5ae26c0fcd4e"
      },
      "outputs": [
        {
          "data": {
            "text/plain": [
              "torch.Size([6, 3, 3, 3])"
            ]
          },
          "execution_count": 314,
          "metadata": {},
          "output_type": "execute_result"
        }
      ],
      "source": [
        "l3.weight.shape"
      ]
    },
    {
      "cell_type": "code",
      "execution_count": null,
      "id": "2dc04c7f",
      "metadata": {
        "id": "2dc04c7f",
        "outputId": "b55f208f-5c63-47c3-9e1d-c9465b82c658"
      },
      "outputs": [
        {
          "data": {
            "text/plain": [
              "torch.Size([1, 6, 30, 30])"
            ]
          },
          "execution_count": 19,
          "metadata": {},
          "output_type": "execute_result"
        }
      ],
      "source": [
        "torch_out.shape"
      ]
    },
    {
      "cell_type": "code",
      "execution_count": null,
      "id": "d93a79e8",
      "metadata": {
        "id": "d93a79e8"
      },
      "outputs": [],
      "source": [
        "def my_Cov2d(kernel_size,stride,output_channels,weight,bias,inputx):\n",
        "    output_width=int((inputx.shape[2]-kernel_size)/stride)+1\n",
        "    output_height=int((inputx.shape[3]-kernel_size)/stride)+1\n",
        "    output = np.zeros((1,output_channels,output_width,output_height))\n",
        "    for i in range(output_channels):#channel\n",
        "        for x in range(0,output_height,stride):\n",
        "            for y in range(0,output_width,stride):\n",
        "                for k in range(inputx.shape[1]):\n",
        "                    output[0,i,x,y] += np.sum((inputx[0,k,x:x+kernel_size,y:y+kernel_size]*weight[i,k]).detach().numpy())\n",
        "                output[0,i,x,y]+=bias[i]\n",
        "       # output[0,i]+=bias\n",
        "    return np.round(output,5)"
      ]
    },
    {
      "cell_type": "markdown",
      "id": "2a044751",
      "metadata": {
        "id": "2a044751"
      },
      "source": [
        "4.torch.nn.Conv2d(in_channels=3, out_channels=6, kernel_size=5, stride=2, padding=0, dilation=2, groups=1, bias=True, padding_mode=‘zeros')"
      ]
    },
    {
      "cell_type": "code",
      "execution_count": null,
      "id": "b8fdfb6f",
      "metadata": {
        "id": "b8fdfb6f"
      },
      "outputs": [],
      "source": [
        "l4=torch.nn.Conv2d(in_channels=3, out_channels=6, kernel_size=5, stride=2, padding=0, dilation=2, groups=1, bias=True, padding_mode='zeros')\n",
        "torch.nn.init.uniform_(l4.weight)\n",
        "torch.nn.init.uniform_(l4.bias)\n",
        "torch_out = l4(x)"
      ]
    },
    {
      "cell_type": "code",
      "execution_count": null,
      "id": "45017e20",
      "metadata": {
        "id": "45017e20",
        "outputId": "1615c58a-ab22-403d-8661-d41b2f3fe374"
      },
      "outputs": [
        {
          "data": {
            "text/plain": [
              "torch.Size([6])"
            ]
          },
          "execution_count": 339,
          "metadata": {},
          "output_type": "execute_result"
        }
      ],
      "source": [
        "l4.bias.shape"
      ]
    },
    {
      "cell_type": "code",
      "execution_count": null,
      "id": "56ec0875",
      "metadata": {
        "id": "56ec0875",
        "outputId": "d6fafd81-271f-4457-90be-19a7a7634788"
      },
      "outputs": [
        {
          "data": {
            "text/plain": [
              "torch.Size([6, 3, 5, 5])"
            ]
          },
          "execution_count": 340,
          "metadata": {},
          "output_type": "execute_result"
        }
      ],
      "source": [
        "l4.weight.shape"
      ]
    },
    {
      "cell_type": "code",
      "execution_count": null,
      "id": "0bd38a3d",
      "metadata": {
        "id": "0bd38a3d",
        "outputId": "bfe3d93a-dffa-43d0-c4c7-f9a08c80a043"
      },
      "outputs": [
        {
          "data": {
            "text/plain": [
              "torch.Size([1, 6, 12, 12])"
            ]
          },
          "execution_count": 15,
          "metadata": {},
          "output_type": "execute_result"
        }
      ],
      "source": [
        "torch_out.shape"
      ]
    },
    {
      "cell_type": "code",
      "execution_count": null,
      "id": "b6cb0f99",
      "metadata": {
        "id": "b6cb0f99",
        "outputId": "61f80e83-9498-47dd-82df-4778afaf3e43"
      },
      "outputs": [
        {
          "data": {
            "text/plain": [
              "5"
            ]
          },
          "execution_count": 376,
          "metadata": {},
          "output_type": "execute_result"
        }
      ],
      "source": [
        "l4.weight.shape[2]"
      ]
    },
    {
      "cell_type": "code",
      "execution_count": null,
      "id": "879c56ec",
      "metadata": {
        "id": "879c56ec"
      },
      "outputs": [],
      "source": [
        "def pad_weight(ori_weight):\n",
        "    pad_weight = np.zeros((ori_weight.shape[0],ori_weight.shape[1],2*ori_weight.shape[2]-1,2*ori_weight.shape[3]-1))\n",
        "    for k in range(ori_weight.shape[0]):\n",
        "        for c in range(ori_weight.shape[1]):\n",
        "            for i in range(ori_weight.shape[2]):\n",
        "                for j in range(ori_weight.shape[3]):\n",
        "                    pad_weight[k,c,2*i,2*j]=ori_weight[k,c,i,j]\n",
        "    return pad_weight"
      ]
    },
    {
      "cell_type": "code",
      "execution_count": null,
      "id": "4c38238d",
      "metadata": {
        "id": "4c38238d"
      },
      "outputs": [],
      "source": [
        "weight = pad_weight(l4.weight)"
      ]
    },
    {
      "cell_type": "code",
      "execution_count": null,
      "id": "b2d82569",
      "metadata": {
        "id": "b2d82569",
        "outputId": "3a2662e5-c4e5-45ea-c939-59dfcb237a3c"
      },
      "outputs": [
        {
          "data": {
            "text/plain": [
              "(6, 3, 9, 9)"
            ]
          },
          "execution_count": 406,
          "metadata": {},
          "output_type": "execute_result"
        }
      ],
      "source": [
        "weight.shape"
      ]
    },
    {
      "cell_type": "code",
      "execution_count": null,
      "id": "4fc7fce0",
      "metadata": {
        "id": "4fc7fce0"
      },
      "outputs": [],
      "source": [
        "def my_Cov2d_dilation(kernel_size,stride,dilation,output_channels,weight,bias,inputx):\n",
        "    output_width=int((inputx.shape[2]-dilation*(kernel_size-1)-1)/stride)+1\n",
        "    output_height=int((inputx.shape[3]-dilation*(kernel_size-1)-1)/stride)+1\n",
        "    output = np.zeros((1,output_channels,output_width,output_height))\n",
        "    for i in range(output_channels):#channel\n",
        "        for x in range(0,output_height*dilation,stride):\n",
        "            for y in range(0,output_width*dilation,stride):\n",
        "                for k in range(inputx.shape[1]):\n",
        "                    output[0,i,x//2,y//2] += np.sum(inputx[0,k,x:x+2*kernel_size-1,y:y+2*kernel_size-1].numpy()*weight[i,k])\n",
        "                output[0,i,x//2,y//2]+=bias[i]\n",
        "       # output[0,i]+=bias\n",
        "    return np.round(output,5)"
      ]
    },
    {
      "cell_type": "code",
      "execution_count": null,
      "id": "d8265408",
      "metadata": {
        "id": "d8265408",
        "outputId": "ad2602ae-54ff-40be-f77b-ff72c6657ac3"
      },
      "outputs": [
        {
          "data": {
            "text/plain": [
              "tensor(3.2881e-05, dtype=torch.float64, grad_fn=<SumBackward0>)"
            ]
          },
          "execution_count": 330,
          "metadata": {},
          "output_type": "execute_result"
        }
      ],
      "source": [
        "my_out = my_Cov2d_dilation(5,2,2,6,weight,l4.bias,x)\n",
        "diff = torch.sum(torch_out-torch.from_numpy(my_out))\n",
        "diff"
      ]
    },
    {
      "cell_type": "markdown",
      "id": "957c938b",
      "metadata": {
        "id": "957c938b"
      },
      "source": [
        "5.torch.nn.ConvTranspose2d(in_channels=3, out_channels=4, kernel_size=3, stride=1, padding=0, output_padding=0, groups=1, bias=True, dilation=1, padding_mode='zeros')"
      ]
    },
    {
      "cell_type": "code",
      "execution_count": null,
      "id": "9f5ebf1d",
      "metadata": {
        "id": "9f5ebf1d"
      },
      "outputs": [],
      "source": [
        "l5=torch.nn.ConvTranspose2d(in_channels=3, out_channels=4, kernel_size=3, stride=1, padding=0, output_padding=0, groups=1, bias=True, dilation=1, padding_mode='zeros')\n",
        "torch.nn.init.uniform_(l5.weight)\n",
        "torch.nn.init.uniform_(l5.bias)\n",
        "torch_out = l5(x)"
      ]
    },
    {
      "cell_type": "code",
      "execution_count": null,
      "id": "b28e7651",
      "metadata": {
        "id": "b28e7651",
        "outputId": "5818df67-3e63-487e-d573-6ccb98ca6588"
      },
      "outputs": [
        {
          "data": {
            "text/plain": [
              "torch.Size([3, 4, 3, 3])"
            ]
          },
          "execution_count": 188,
          "metadata": {},
          "output_type": "execute_result"
        }
      ],
      "source": [
        "l5.weight.shape"
      ]
    },
    {
      "cell_type": "code",
      "execution_count": null,
      "id": "3cbaeeea",
      "metadata": {
        "id": "3cbaeeea",
        "outputId": "067c837d-83a1-4a76-b90e-591039906d95"
      },
      "outputs": [
        {
          "data": {
            "text/plain": [
              "torch.Size([4])"
            ]
          },
          "execution_count": 180,
          "metadata": {},
          "output_type": "execute_result"
        }
      ],
      "source": [
        "l5.bias.shape"
      ]
    },
    {
      "cell_type": "code",
      "execution_count": null,
      "id": "684260ea",
      "metadata": {
        "id": "684260ea",
        "outputId": "17f81821-9c8c-44d3-de91-3cf5c21937a1"
      },
      "outputs": [
        {
          "data": {
            "text/plain": [
              "torch.Size([1, 4, 34, 34])"
            ]
          },
          "execution_count": 181,
          "metadata": {},
          "output_type": "execute_result"
        }
      ],
      "source": [
        "torch_out.shape"
      ]
    },
    {
      "cell_type": "code",
      "execution_count": null,
      "id": "283a8b27",
      "metadata": {
        "id": "283a8b27"
      },
      "outputs": [],
      "source": [
        "def pad_inputx(dilation,kernel_size,x):\n",
        "    pad = dilation * (kernel_size - 1)\n",
        "    newx=np.zeros((1,x.shape[1],x.shape[2]+2*pad,x.shape[3]+2*pad))\n",
        "    for i in range(x.shape[1]):\n",
        "        newx[0,i]=np.pad(x[0,i], (pad, pad), 'constant')\n",
        "    return newx"
      ]
    },
    {
      "cell_type": "code",
      "execution_count": null,
      "id": "9d0d57e7",
      "metadata": {
        "id": "9d0d57e7"
      },
      "outputs": [],
      "source": [
        "x=pad_inputx(1,3,x)"
      ]
    },
    {
      "cell_type": "code",
      "execution_count": null,
      "id": "d697d590",
      "metadata": {
        "id": "d697d590"
      },
      "outputs": [],
      "source": [
        "#output_width=int((inputx.shape[2]-kernel_size)/stride)+1 反过来\n",
        "def my_ConvTranspose2d(kernel_size,stride,output_channels,weight,bias,inputx):\n",
        "    output_width=int((inputx.shape[2]-kernel_size)/stride)+1\n",
        "    output_height=int((inputx.shape[3]-kernel_size)/stride)+1\n",
        "    output = np.zeros((1,output_channels,output_width,output_height))\n",
        "    for i in range(output_channels):#4 output channel\n",
        "        for x in range(0,output_height,stride):\n",
        "            for y in range(0,output_width,stride):\n",
        "                for k in range(inputx.shape[1]):#3 input channel\n",
        "                    output[0,i,x,y] += np.sum(((inputx[0,k,x:x+kernel_size,y:y+kernel_size])*weight[k,i].detach().numpy()))\n",
        "                output[0,i,x,y]+=bias[i]\n",
        "    return np.round(output,5)"
      ]
    },
    {
      "cell_type": "code",
      "execution_count": null,
      "id": "ea7af3e7",
      "metadata": {
        "id": "ea7af3e7",
        "outputId": "f840f883-8df7-4298-ac07-41f91cba8c5a"
      },
      "outputs": [
        {
          "data": {
            "text/plain": [
              "tensor(-0.0002, dtype=torch.float64, grad_fn=<SumBackward0>)"
            ]
          },
          "execution_count": 333,
          "metadata": {},
          "output_type": "execute_result"
        }
      ],
      "source": [
        "my_out = my_ConvTranspose2d(3,1,4,l5.weight,l5.bias,x)#3,4,3,3\n",
        "diff = torch.sum(torch_out-torch.from_numpy(my_out))\n",
        "diff"
      ]
    },
    {
      "cell_type": "markdown",
      "id": "175fa796",
      "metadata": {
        "id": "175fa796"
      },
      "source": [
        "6.torch.flatten(input, start_dim=0, end_dim=-1)"
      ]
    },
    {
      "cell_type": "code",
      "execution_count": null,
      "id": "d7bad5a2",
      "metadata": {
        "id": "d7bad5a2"
      },
      "outputs": [],
      "source": [
        "x = torch.randn(3,32,32)"
      ]
    },
    {
      "cell_type": "code",
      "execution_count": null,
      "id": "ac6dc6dc",
      "metadata": {
        "id": "ac6dc6dc",
        "outputId": "22a036a2-8cd3-45a8-9ce3-b3683dcc8209"
      },
      "outputs": [
        {
          "data": {
            "text/plain": [
              "torch.Size([3072])"
            ]
          },
          "execution_count": 336,
          "metadata": {},
          "output_type": "execute_result"
        }
      ],
      "source": [
        "torch_out=torch.flatten(x, start_dim=0, end_dim=-1)\n",
        "torch_out.shape"
      ]
    },
    {
      "cell_type": "code",
      "execution_count": null,
      "id": "3750a486",
      "metadata": {
        "id": "3750a486"
      },
      "outputs": [],
      "source": [
        "def my_flatten(inputx):\n",
        "    output=[]\n",
        "    for i in range(inputx.shape[0]):\n",
        "        for x in range(inputx.shape[1]):\n",
        "            for y in range(inputx.shape[2]):\n",
        "                output.append(inputx[i,x,y])\n",
        "    return np.round(output,5)"
      ]
    },
    {
      "cell_type": "code",
      "execution_count": null,
      "id": "a989bc7f",
      "metadata": {
        "id": "a989bc7f",
        "outputId": "77b330cd-294b-4657-a09e-32cbd844ad3c"
      },
      "outputs": [
        {
          "data": {
            "text/plain": [
              "0.00011458222"
            ]
          },
          "execution_count": 337,
          "metadata": {},
          "output_type": "execute_result"
        }
      ],
      "source": [
        "my_out=my_flatten(x)\n",
        "diff = np.sum(torch_out.numpy()-my_out)\n",
        "diff"
      ]
    },
    {
      "cell_type": "markdown",
      "id": "57289373",
      "metadata": {
        "id": "57289373"
      },
      "source": [
        "7.torch.sigmoid(input, *, out=None)"
      ]
    },
    {
      "cell_type": "code",
      "execution_count": null,
      "id": "63159b51",
      "metadata": {
        "id": "63159b51",
        "outputId": "24aa2041-e969-4dbb-d6b2-eb87c89ce3c3"
      },
      "outputs": [
        {
          "data": {
            "text/plain": [
              "torch.Size([3, 32, 32])"
            ]
          },
          "execution_count": 305,
          "metadata": {},
          "output_type": "execute_result"
        }
      ],
      "source": [
        "torch_out=torch.sigmoid(x,out=None)\n",
        "torch_out.shape"
      ]
    },
    {
      "cell_type": "code",
      "execution_count": null,
      "id": "db080107",
      "metadata": {
        "id": "db080107"
      },
      "outputs": [],
      "source": [
        "def sigmoid(x):\n",
        "        return 1 / (1 + math. exp(-x))\n",
        "def my_sigmoid(inputx):\n",
        "    for i in range(inputx.shape[0]):\n",
        "        for x in range(inputx.shape[1]):\n",
        "            for y in range(inputx.shape[2]):\n",
        "                inputx[i,x,y]=1/(1 + math.exp(-inputx[i,x,y]))\n",
        "    return np.round(inputx,5)"
      ]
    },
    {
      "cell_type": "code",
      "execution_count": null,
      "id": "ed7bc8fe",
      "metadata": {
        "id": "ed7bc8fe",
        "outputId": "d93b5dad-cc0a-4972-9810-3cc3f41660e5"
      },
      "outputs": [
        {
          "data": {
            "text/plain": [
              "torch.Size([3, 32, 32])"
            ]
          },
          "execution_count": 296,
          "metadata": {},
          "output_type": "execute_result"
        }
      ],
      "source": [
        "my_out = my_sigmoid(x)\n",
        "my_sigmoid(x).shape"
      ]
    },
    {
      "cell_type": "code",
      "execution_count": null,
      "id": "dcb55204",
      "metadata": {
        "id": "dcb55204",
        "outputId": "2593d8aa-d95a-4d7e-b81b-6e23ffcffda2"
      },
      "outputs": [
        {
          "data": {
            "text/plain": [
              "tensor(4.3333e-05)"
            ]
          },
          "execution_count": 307,
          "metadata": {},
          "output_type": "execute_result"
        }
      ],
      "source": [
        "diff = torch.sum(torch_out-my_out)\n",
        "diff"
      ]
    },
    {
      "cell_type": "markdown",
      "id": "1d409e71",
      "metadata": {
        "id": "1d409e71"
      },
      "source": [
        "8.torchvision.ops.roi_pool(input: torch.Tensor, boxes: torch.Tensor, output_size: None, spatial_scale: float = 1.0)"
      ]
    },
    {
      "cell_type": "code",
      "execution_count": 5,
      "id": "531d9bb8",
      "metadata": {
        "id": "531d9bb8"
      },
      "outputs": [],
      "source": [
        "#box [batch_id, x1, y1, x2, y2]，其中(x1, y1)为左上角，(x2, y2)为右下角。\n",
        "x=torch.randn(1,3,32,32)\n",
        "boxes=torch.tensor([[0,0,0,16,16]]).float()\n",
        "l8=torchvision.ops.roi_pool(x, boxes, output_size=(5,5))\n",
        "my_out=my_roi_pool(roi_start_w=0,roi_start_h=0,roi_end_w=16,roi_end_h=16,output_size=5,inputx=x)"
      ]
    },
    {
      "cell_type": "code",
      "execution_count": 6,
      "id": "5f50b81a",
      "metadata": {
        "colab": {
          "base_uri": "https://localhost:8080/"
        },
        "id": "5f50b81a",
        "outputId": "8f921f45-e329-4a69-f9f7-3f5f86244c48"
      },
      "outputs": [
        {
          "output_type": "execute_result",
          "data": {
            "text/plain": [
              "torch.Size([1, 3, 5, 5])"
            ]
          },
          "metadata": {},
          "execution_count": 6
        }
      ],
      "source": [
        "l8.shape"
      ]
    },
    {
      "cell_type": "code",
      "execution_count": 4,
      "id": "25b6dc2a",
      "metadata": {
        "id": "25b6dc2a"
      },
      "outputs": [],
      "source": [
        "def my_roi_pool(roi_start_w,roi_start_h,roi_end_w,roi_end_h,output_size,inputx):\n",
        "    output = np.zeros((1,inputx.shape[1],output_size,output_size))\n",
        "    \n",
        "    roi_width = (roi_end_w - roi_start_w + 1)\n",
        "    roi_height = (roi_end_h - roi_start_h + 1)\n",
        "\n",
        "    bin_size_w = roi_width/output_size\n",
        "    bin_size_h = roi_height/output_size\n",
        "    \n",
        "    for i in range(inputx.shape[1]):\n",
        "        for y in range(output_size):\n",
        "            for x in range(output_size):\n",
        "                output[0,i,y,x]=np.max((inputx[0,i,int(roi_start_h+bin_size_h*(y)):math.ceil(roi_start_h+bin_size_h*(y+1)),int(roi_start_w+bin_size_w*(x)):math.ceil(roi_start_w+bin_size_w*(x+1))]).numpy())\n",
        "    return np.round(output,5)"
      ]
    },
    {
      "cell_type": "code",
      "execution_count": 7,
      "id": "5b5f6655",
      "metadata": {
        "colab": {
          "base_uri": "https://localhost:8080/"
        },
        "id": "5b5f6655",
        "outputId": "2329fed9-e9e6-4337-b81e-9299e45330b0"
      },
      "outputs": [
        {
          "output_type": "execute_result",
          "data": {
            "text/plain": [
              "tensor(7.9337e-06, dtype=torch.float64)"
            ]
          },
          "metadata": {},
          "execution_count": 7
        }
      ],
      "source": [
        "diff = torch.sum(l8-torch.from_numpy(my_out))\n",
        "diff"
      ]
    },
    {
      "cell_type": "markdown",
      "id": "1e3cc6a7",
      "metadata": {
        "id": "1e3cc6a7"
      },
      "source": [
        "9.torch.nn.functional.batch_norm(input, running_mean, running_var, weight=None, bias=None, training=False, momentum=0.1, eps=1e-05)"
      ]
    },
    {
      "cell_type": "code",
      "execution_count": null,
      "id": "5f77d8d9",
      "metadata": {
        "id": "5f77d8d9"
      },
      "outputs": [],
      "source": [
        "x=torch.randn(1,3,32,32)"
      ]
    },
    {
      "cell_type": "code",
      "execution_count": null,
      "id": "d9c1d5eb",
      "metadata": {
        "id": "d9c1d5eb"
      },
      "outputs": [],
      "source": [
        "running_mean = torch.zeros(x.shape[1])\n",
        "running_var = torch.ones(x.shape[1])\n",
        "torch_out=torch.nn.functional.batch_norm(x,running_mean,running_var,weight=None,bias=None,training=False,momentum=0.1,eps=1e-05)"
      ]
    },
    {
      "cell_type": "code",
      "execution_count": null,
      "id": "1e0698bb",
      "metadata": {
        "id": "1e0698bb",
        "outputId": "9d50c857-50ef-4e4c-c628-815755f63347"
      },
      "outputs": [
        {
          "data": {
            "text/plain": [
              "torch.Size([1, 3, 32, 32])"
            ]
          },
          "execution_count": 439,
          "metadata": {},
          "output_type": "execute_result"
        }
      ],
      "source": [
        "torch_out.shape"
      ]
    },
    {
      "cell_type": "code",
      "execution_count": null,
      "id": "5e0a5677",
      "metadata": {
        "id": "5e0a5677"
      },
      "outputs": [],
      "source": [
        "def my_batch_norm(inputx,running_mean,running_var):\n",
        "    eps=1e-05\n",
        "    for i in range(inputx.shape[1]):\n",
        "        for x in range(inputx.shape[2]):\n",
        "            for y in range(inputx.shape[3]):\n",
        "                inputx[0,i,x,y]=(inputx[0,i,x,y]-running_mean[i])/torch.sqrt(running_var[i]+eps)\n",
        "    return np.round(inputx,5)"
      ]
    },
    {
      "cell_type": "code",
      "execution_count": null,
      "id": "c7d9dfbc",
      "metadata": {
        "id": "c7d9dfbc",
        "outputId": "a9550f15-eefc-455b-a022-fca38d0a14a8"
      },
      "outputs": [
        {
          "data": {
            "text/plain": [
              "tensor(-0.0005)"
            ]
          },
          "execution_count": 441,
          "metadata": {},
          "output_type": "execute_result"
        }
      ],
      "source": [
        "my_out = my_batch_norm(x,running_mean,running_var)\n",
        "diff = torch.sum(torch_out-my_out)\n",
        "diff"
      ]
    },
    {
      "cell_type": "markdown",
      "id": "2bd02ba1",
      "metadata": {
        "id": "2bd02ba1"
      },
      "source": [
        "10.torch.nn.functional.cross_entropy(input, target, weight=None, size_average=None, ignore_index=-100, reduce=None, reduction=‘mean')"
      ]
    },
    {
      "cell_type": "code",
      "execution_count": 9,
      "id": "b231110b",
      "metadata": {
        "id": "b231110b"
      },
      "outputs": [],
      "source": [
        "x=torch.randn(1,3,32,32)"
      ]
    },
    {
      "cell_type": "code",
      "execution_count": 10,
      "id": "01586b7c",
      "metadata": {
        "id": "01586b7c"
      },
      "outputs": [],
      "source": [
        "target = torch.randint(0,2,(1,32,32))"
      ]
    },
    {
      "cell_type": "code",
      "execution_count": 11,
      "id": "3a07ee73",
      "metadata": {
        "colab": {
          "base_uri": "https://localhost:8080/"
        },
        "id": "3a07ee73",
        "outputId": "466a2533-e2ac-49e1-e18a-7310886135a1"
      },
      "outputs": [
        {
          "output_type": "execute_result",
          "data": {
            "text/plain": [
              "tensor(1.3762)"
            ]
          },
          "metadata": {},
          "execution_count": 11
        }
      ],
      "source": [
        "l10=torch.nn.functional.cross_entropy(x, target, weight=None, size_average=None, ignore_index=-100, reduce=None, reduction='mean')\n",
        "my_out=my_cross_entropy(x,target)\n",
        "l10"
      ]
    },
    {
      "cell_type": "code",
      "execution_count": 12,
      "id": "a4aa0ea5",
      "metadata": {
        "colab": {
          "base_uri": "https://localhost:8080/"
        },
        "id": "a4aa0ea5",
        "outputId": "3ca2b7e8-096b-420b-c60a-79a9c6dfd6d2"
      },
      "outputs": [
        {
          "output_type": "execute_result",
          "data": {
            "text/plain": [
              "tensor(1.3762)"
            ]
          },
          "metadata": {},
          "execution_count": 12
        }
      ],
      "source": [
        "my_out"
      ]
    },
    {
      "cell_type": "code",
      "execution_count": 8,
      "id": "7fbd5e2e",
      "metadata": {
        "id": "7fbd5e2e"
      },
      "outputs": [],
      "source": [
        "def softmax(inputx):\n",
        "    exp_xi = torch.exp(inputx[0])\n",
        "    return exp_xi/torch.sum(exp_xi,dim=0)\n",
        "def my_cross_entropy(inputx,target):\n",
        "    softmax_inputx=softmax(inputx)\n",
        "    loss=0\n",
        "    for x in range(target.shape[1]):\n",
        "        for y in range(target.shape[2]):\n",
        "            class_i=target[0,x,y]\n",
        "            loss_i=torch.log(softmax_inputx[class_i,x,y])\n",
        "            loss-=loss_i\n",
        "    loss = (loss)/(target.shape[1]*target.shape[2])\n",
        "    return np.round(loss,5)"
      ]
    },
    {
      "cell_type": "markdown",
      "id": "6a44d545",
      "metadata": {
        "id": "6a44d545"
      },
      "source": [
        "11.torch.nn.functional.mse_loss(input, target, size_average=None, reduce=None, reduction='mean')"
      ]
    },
    {
      "cell_type": "code",
      "execution_count": null,
      "id": "687e6d8b",
      "metadata": {
        "id": "687e6d8b"
      },
      "outputs": [],
      "source": [
        "target=torch.randn(3,32,32)"
      ]
    },
    {
      "cell_type": "code",
      "execution_count": null,
      "id": "5819b45a",
      "metadata": {
        "id": "5819b45a",
        "outputId": "a624b271-e73e-4636-b0c7-8292d64d5a26"
      },
      "outputs": [
        {
          "data": {
            "text/plain": [
              "tensor(1.9804)"
            ]
          },
          "execution_count": 343,
          "metadata": {},
          "output_type": "execute_result"
        }
      ],
      "source": [
        "l11=torch.nn.functional.mse_loss(x, target, size_average=None, reduce=None, reduction='mean')\n",
        "l11"
      ]
    },
    {
      "cell_type": "code",
      "execution_count": null,
      "id": "113e004c",
      "metadata": {
        "id": "113e004c",
        "outputId": "d0656403-3c9f-4eca-ce35-c5e0af2b69c8"
      },
      "outputs": [
        {
          "data": {
            "text/plain": [
              "tensor(1.9804)"
            ]
          },
          "execution_count": 342,
          "metadata": {},
          "output_type": "execute_result"
        }
      ],
      "source": [
        "my_out = torch.mean((x-target)**2)\n",
        "my_out"
      ]
    }
  ],
  "metadata": {
    "kernelspec": {
      "display_name": "Python 3 (ipykernel)",
      "language": "python",
      "name": "python3"
    },
    "language_info": {
      "codemirror_mode": {
        "name": "ipython",
        "version": 3
      },
      "file_extension": ".py",
      "mimetype": "text/x-python",
      "name": "python",
      "nbconvert_exporter": "python",
      "pygments_lexer": "ipython3",
      "version": "3.8.8"
    },
    "colab": {
      "name": "HW3Q1.ipynb",
      "provenance": []
    }
  },
  "nbformat": 4,
  "nbformat_minor": 5
}
